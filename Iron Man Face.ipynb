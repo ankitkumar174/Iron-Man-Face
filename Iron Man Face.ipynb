{
 "cells": [
  {
   "cell_type": "code",
   "execution_count": 1,
   "id": "cd91be4b",
   "metadata": {},
   "outputs": [],
   "source": [
    "import turtle\n",
    "\n",
    "anki1 = [[(-40, 120), (-70, 260), (-130, 230), (-170, 200), (-170, 100), (-160, 40), (-170, 10), (-150, -10), (-140, 10),\n",
    "           (-40, -20), (0, -20)],\n",
    "          [(0, -20), (40, -20), (140, 10), (150, -10), (170, 10), (160, 40), (170, 100), (170, 200), (130, 230), (70, 260),\n",
    "           (40, 120), (0, 120)]]\n",
    "anki2 = [[(-40, -30), (-50, -40), (-100, -46), (-130, -40), (-176, 0), (-186, -30), (-186, -40), (-120, -170), (-110, -210),\n",
    "           (-80, -230), (-64, -210), (0, -210)],\n",
    "          [(0, -210), (64, -210), (80, -230), (110, -210), (120, -170), (186, -40), (186, -30), (176, 0), (130, -40),\n",
    "           (100, -46), (50, -40), (40, -30), (0, -30)]]\n",
    "anki3 = [[(-60, -220), (-80, -240), (-110, -220), (-120, -250), (-90, -280), (-60, -260), (-30, -260), (-20, -250),\n",
    "           (0, -250)],\n",
    "          [(0, -250), (20, -250), (30, -260), (60, -260), (90, -280), (120, -250), (110, -220), (80, -240), (60, -220),\n",
    "           (0, -220)]]\n",
    "\n",
    "turtle.hideturtle()\n",
    "turtle.bgcolor('#000000')  # Dark Red\n",
    "turtle.setup(500, 600)\n",
    "turtle.title(\"I AM IRONMAN\")\n",
    "anki1Goto = (0, 120)\n",
    "anki2Goto = (0, -30)\n",
    "anki3Goto = (0, -220)\n",
    "turtle.speed(2)\n",
    "\n",
    "\n",
    "def logo(a, b):\n",
    "    turtle.penup()\n",
    "    turtle.goto(b)\n",
    "    turtle.pendown()\n",
    "    turtle.color('#fab104')  # Light Yellow\n",
    "    turtle.begin_fill()\n",
    "\n",
    "    for i in range(len(a[0])):\n",
    "        x, y = a[0][i]\n",
    "        turtle.goto(x, y)\n",
    "\n",
    "    for i in range(len(a[1])):\n",
    "        x, y = a[1][i]\n",
    "        turtle.goto(x, y)\n",
    "    turtle.end_fill()\n",
    "\n",
    "\n",
    "logo(anki1, anki1Goto)\n",
    "logo(anki2, anki2Goto)\n",
    "logo(anki3, anki3Goto)\n",
    "turtle.hideturtle()\n",
    "turtle.done()"
   ]
  }
 ],
 "metadata": {
  "kernelspec": {
   "display_name": "Python 3",
   "language": "python",
   "name": "python3"
  },
  "language_info": {
   "codemirror_mode": {
    "name": "ipython",
    "version": 3
   },
   "file_extension": ".py",
   "mimetype": "text/x-python",
   "name": "python",
   "nbconvert_exporter": "python",
   "pygments_lexer": "ipython3",
   "version": "3.8.8"
  }
 },
 "nbformat": 4,
 "nbformat_minor": 5
}
